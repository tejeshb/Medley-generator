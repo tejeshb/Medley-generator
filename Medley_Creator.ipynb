{
  "nbformat": 4,
  "nbformat_minor": 0,
  "metadata": {
    "accelerator": "GPU",
    "colab": {
      "name": "Medley_Creator.ipynb",
      "provenance": [],
      "toc_visible": true,
      "include_colab_link": true
    },
    "kernelspec": {
      "display_name": "Python 3",
      "name": "python3"
    }
  },
  "cells": [
    {
      "cell_type": "markdown",
      "metadata": {
        "id": "view-in-github",
        "colab_type": "text"
      },
      "source": [
        "<a href=\"https://colab.research.google.com/github/tejeshb/Medley-generator/blob/main/Medley_Creator.ipynb\" target=\"_parent\"><img src=\"https://colab.research.google.com/assets/colab-badge.svg\" alt=\"Open In Colab\"/></a>"
      ]
    },
    {
      "cell_type": "markdown",
      "metadata": {
        "id": "K6mcSc0mmp3i"
      },
      "source": [
        "# Install spleeter, ffmpeg, pydub\r\n"
      ]
    },
    {
      "cell_type": "code",
      "metadata": {
        "colab": {
          "base_uri": "https://localhost:8080/"
        },
        "id": "f8Brdfh6mzEz",
        "outputId": "498454f1-89ef-42ac-d05c-740f6c3faaa1"
      },
      "source": [
        "!apt install ffmpeg"
      ],
      "execution_count": 1,
      "outputs": [
        {
          "output_type": "stream",
          "text": [
            "Reading package lists... Done\n",
            "Building dependency tree       \n",
            "Reading state information... Done\n",
            "ffmpeg is already the newest version (7:3.4.8-0ubuntu0.2).\n",
            "0 upgraded, 0 newly installed, 0 to remove and 16 not upgraded.\n"
          ],
          "name": "stdout"
        }
      ]
    },
    {
      "cell_type": "code",
      "metadata": {
        "colab": {
          "base_uri": "https://localhost:8080/",
          "height": 1000
        },
        "id": "V_6Ram1lmc1F",
        "outputId": "e272299c-a10b-4421-e61b-970968b351cc"
      },
      "source": [
        "!pip install spleeter"
      ],
      "execution_count": 2,
      "outputs": [
        {
          "output_type": "stream",
          "text": [
            "Collecting spleeter\n",
            "\u001b[?25l  Downloading https://files.pythonhosted.org/packages/22/d2/3117040bf32e3eeb656ee0343aeaa7b21f5eeffb2176a4c646e11a3702d6/spleeter-2.1.2-py3-none-any.whl (50kB)\n",
            "\r\u001b[K     |██████▌                         | 10kB 26.3MB/s eta 0:00:01\r\u001b[K     |█████████████                   | 20kB 16.1MB/s eta 0:00:01\r\u001b[K     |███████████████████▌            | 30kB 13.1MB/s eta 0:00:01\r\u001b[K     |██████████████████████████      | 40kB 12.1MB/s eta 0:00:01\r\u001b[K     |████████████████████████████████| 51kB 4.2MB/s \n",
            "\u001b[?25hCollecting librosa==0.8.0\n",
            "\u001b[?25l  Downloading https://files.pythonhosted.org/packages/26/4d/c22d8ca74ca2c13cd4ac430fa353954886104321877b65fa871939e78591/librosa-0.8.0.tar.gz (183kB)\n",
            "\r\u001b[K     |█▉                              | 10kB 22.6MB/s eta 0:00:01\r\u001b[K     |███▋                            | 20kB 31.5MB/s eta 0:00:01\r\u001b[K     |█████▍                          | 30kB 24.1MB/s eta 0:00:01\r\u001b[K     |███████▏                        | 40kB 16.9MB/s eta 0:00:01\r\u001b[K     |█████████                       | 51kB 12.8MB/s eta 0:00:01\r\u001b[K     |██████████▊                     | 61kB 13.1MB/s eta 0:00:01\r\u001b[K     |████████████▌                   | 71kB 9.5MB/s eta 0:00:01\r\u001b[K     |██████████████▎                 | 81kB 9.5MB/s eta 0:00:01\r\u001b[K     |████████████████                | 92kB 9.9MB/s eta 0:00:01\r\u001b[K     |█████████████████▉              | 102kB 9.6MB/s eta 0:00:01\r\u001b[K     |███████████████████▋            | 112kB 9.6MB/s eta 0:00:01\r\u001b[K     |█████████████████████▍          | 122kB 9.6MB/s eta 0:00:01\r\u001b[K     |███████████████████████▏        | 133kB 9.6MB/s eta 0:00:01\r\u001b[K     |█████████████████████████       | 143kB 9.6MB/s eta 0:00:01\r\u001b[K     |██████████████████████████▊     | 153kB 9.6MB/s eta 0:00:01\r\u001b[K     |████████████████████████████▌   | 163kB 9.6MB/s eta 0:00:01\r\u001b[K     |██████████████████████████████▎ | 174kB 9.6MB/s eta 0:00:01\r\u001b[K     |████████████████████████████████| 184kB 9.6MB/s \n",
            "\u001b[?25hCollecting ffmpeg-python==0.2.0\n",
            "  Downloading https://files.pythonhosted.org/packages/d7/0c/56be52741f75bad4dc6555991fabd2e07b432d333da82c11ad701123888a/ffmpeg_python-0.2.0-py3-none-any.whl\n",
            "Collecting numpy<1.19.0,>=1.16.0\n",
            "\u001b[?25l  Downloading https://files.pythonhosted.org/packages/b3/a9/b1bc4c935ed063766bce7d3e8c7b20bd52e515ff1c732b02caacf7918e5a/numpy-1.18.5-cp36-cp36m-manylinux1_x86_64.whl (20.1MB)\n",
            "\u001b[K     |████████████████████████████████| 20.1MB 12.7MB/s \n",
            "\u001b[?25hCollecting norbert==0.2.1\n",
            "  Downloading https://files.pythonhosted.org/packages/22/85/1e4f09c84d28b5541a4a8eece320902c4d2fa264dfe51f779548396f0fea/norbert-0.2.1-py2.py3-none-any.whl\n",
            "Collecting typer<0.4.0,>=0.3.2\n",
            "  Downloading https://files.pythonhosted.org/packages/90/34/d138832f6945432c638f32137e6c79a3b682f06a63c488dcfaca6b166c64/typer-0.3.2-py3-none-any.whl\n",
            "Collecting tensorflow==2.3.0\n",
            "\u001b[?25l  Downloading https://files.pythonhosted.org/packages/97/ae/0b08f53498417914f2274cc3b5576d2b83179b0cbb209457d0fde0152174/tensorflow-2.3.0-cp36-cp36m-manylinux2010_x86_64.whl (320.4MB)\n",
            "\u001b[K     |████████████████████████████████| 320.4MB 49kB/s \n",
            "\u001b[?25hRequirement already satisfied: importlib-resources<5.0.0,>=4.1.1; python_version < \"3.7\" in /usr/local/lib/python3.6/dist-packages (from spleeter) (4.1.1)\n",
            "Collecting httpx[http2]<0.17.0,>=0.16.1\n",
            "\u001b[?25l  Downloading https://files.pythonhosted.org/packages/2d/c6/59aa4188e7eddb9e89ec67a51598ca6bfc09f1b38c9b45f7ee45af7a4df4/httpx-0.16.1-py3-none-any.whl (65kB)\n",
            "\u001b[K     |████████████████████████████████| 71kB 10.3MB/s \n",
            "\u001b[?25hCollecting pandas==1.1.2\n",
            "\u001b[?25l  Downloading https://files.pythonhosted.org/packages/1c/11/e1f53db0614f2721027aab297c8afd2eaf58d33d566441a97ea454541c5e/pandas-1.1.2-cp36-cp36m-manylinux1_x86_64.whl (10.5MB)\n",
            "\u001b[K     |████████████████████████████████| 10.5MB 59.3MB/s \n",
            "\u001b[?25hRequirement already satisfied: audioread>=2.0.0 in /usr/local/lib/python3.6/dist-packages (from librosa==0.8.0->spleeter) (2.1.9)\n",
            "Requirement already satisfied: scipy>=1.0.0 in /usr/local/lib/python3.6/dist-packages (from librosa==0.8.0->spleeter) (1.4.1)\n",
            "Requirement already satisfied: scikit-learn!=0.19.0,>=0.14.0 in /usr/local/lib/python3.6/dist-packages (from librosa==0.8.0->spleeter) (0.22.2.post1)\n",
            "Requirement already satisfied: joblib>=0.14 in /usr/local/lib/python3.6/dist-packages (from librosa==0.8.0->spleeter) (1.0.0)\n",
            "Requirement already satisfied: decorator>=3.0.0 in /usr/local/lib/python3.6/dist-packages (from librosa==0.8.0->spleeter) (4.4.2)\n",
            "Requirement already satisfied: resampy>=0.2.2 in /usr/local/lib/python3.6/dist-packages (from librosa==0.8.0->spleeter) (0.2.2)\n",
            "Requirement already satisfied: numba>=0.43.0 in /usr/local/lib/python3.6/dist-packages (from librosa==0.8.0->spleeter) (0.48.0)\n",
            "Collecting soundfile>=0.9.0\n",
            "  Downloading https://files.pythonhosted.org/packages/eb/f2/3cbbbf3b96fb9fa91582c438b574cff3f45b29c772f94c400e2c99ef5db9/SoundFile-0.10.3.post1-py2.py3-none-any.whl\n",
            "Collecting pooch>=1.0\n",
            "\u001b[?25l  Downloading https://files.pythonhosted.org/packages/40/b9/9876662636ba451d4406543047c0b45ca5b4e830f931308c8274dad1db43/pooch-1.3.0-py3-none-any.whl (51kB)\n",
            "\u001b[K     |████████████████████████████████| 61kB 9.1MB/s \n",
            "\u001b[?25hRequirement already satisfied: future in /usr/local/lib/python3.6/dist-packages (from ffmpeg-python==0.2.0->spleeter) (0.16.0)\n",
            "Requirement already satisfied: click<7.2.0,>=7.1.1 in /usr/local/lib/python3.6/dist-packages (from typer<0.4.0,>=0.3.2->spleeter) (7.1.2)\n",
            "Requirement already satisfied: protobuf>=3.9.2 in /usr/local/lib/python3.6/dist-packages (from tensorflow==2.3.0->spleeter) (3.12.4)\n",
            "Requirement already satisfied: astunparse==1.6.3 in /usr/local/lib/python3.6/dist-packages (from tensorflow==2.3.0->spleeter) (1.6.3)\n",
            "Requirement already satisfied: absl-py>=0.7.0 in /usr/local/lib/python3.6/dist-packages (from tensorflow==2.3.0->spleeter) (0.10.0)\n",
            "Requirement already satisfied: wrapt>=1.11.1 in /usr/local/lib/python3.6/dist-packages (from tensorflow==2.3.0->spleeter) (1.12.1)\n",
            "Requirement already satisfied: grpcio>=1.8.6 in /usr/local/lib/python3.6/dist-packages (from tensorflow==2.3.0->spleeter) (1.32.0)\n",
            "Collecting tensorflow-estimator<2.4.0,>=2.3.0\n",
            "\u001b[?25l  Downloading https://files.pythonhosted.org/packages/e9/ed/5853ec0ae380cba4588eab1524e18ece1583b65f7ae0e97321f5ff9dfd60/tensorflow_estimator-2.3.0-py2.py3-none-any.whl (459kB)\n",
            "\u001b[K     |████████████████████████████████| 460kB 58.3MB/s \n",
            "\u001b[?25hRequirement already satisfied: six>=1.12.0 in /usr/local/lib/python3.6/dist-packages (from tensorflow==2.3.0->spleeter) (1.15.0)\n",
            "Requirement already satisfied: h5py<2.11.0,>=2.10.0 in /usr/local/lib/python3.6/dist-packages (from tensorflow==2.3.0->spleeter) (2.10.0)\n",
            "Requirement already satisfied: wheel>=0.26 in /usr/local/lib/python3.6/dist-packages (from tensorflow==2.3.0->spleeter) (0.36.2)\n",
            "Requirement already satisfied: gast==0.3.3 in /usr/local/lib/python3.6/dist-packages (from tensorflow==2.3.0->spleeter) (0.3.3)\n",
            "Requirement already satisfied: keras-preprocessing<1.2,>=1.1.1 in /usr/local/lib/python3.6/dist-packages (from tensorflow==2.3.0->spleeter) (1.1.2)\n",
            "Requirement already satisfied: tensorboard<3,>=2.3.0 in /usr/local/lib/python3.6/dist-packages (from tensorflow==2.3.0->spleeter) (2.4.0)\n",
            "Requirement already satisfied: google-pasta>=0.1.8 in /usr/local/lib/python3.6/dist-packages (from tensorflow==2.3.0->spleeter) (0.2.0)\n",
            "Requirement already satisfied: termcolor>=1.1.0 in /usr/local/lib/python3.6/dist-packages (from tensorflow==2.3.0->spleeter) (1.1.0)\n",
            "Requirement already satisfied: opt-einsum>=2.3.2 in /usr/local/lib/python3.6/dist-packages (from tensorflow==2.3.0->spleeter) (3.3.0)\n",
            "Requirement already satisfied: zipp>=0.4; python_version < \"3.8\" in /usr/local/lib/python3.6/dist-packages (from importlib-resources<5.0.0,>=4.1.1; python_version < \"3.7\"->spleeter) (3.4.0)\n",
            "Collecting sniffio\n",
            "  Downloading https://files.pythonhosted.org/packages/52/b0/7b2e028b63d092804b6794595871f936aafa5e9322dcaaad50ebf67445b3/sniffio-1.2.0-py3-none-any.whl\n",
            "Collecting rfc3986[idna2008]<2,>=1.3\n",
            "  Downloading https://files.pythonhosted.org/packages/78/be/7b8b99fd74ff5684225f50dd0e865393d2265656ef3b4ba9eaaaffe622b8/rfc3986-1.4.0-py2.py3-none-any.whl\n",
            "Collecting httpcore==0.12.*\n",
            "\u001b[?25l  Downloading https://files.pythonhosted.org/packages/fc/f1/a2be3370c70a46b849ccef43011bf3fff20a741be80d8789405505e7a688/httpcore-0.12.2-py3-none-any.whl (54kB)\n",
            "\u001b[K     |████████████████████████████████| 61kB 9.1MB/s \n",
            "\u001b[?25hRequirement already satisfied: certifi in /usr/local/lib/python3.6/dist-packages (from httpx[http2]<0.17.0,>=0.16.1->spleeter) (2020.12.5)\n",
            "Collecting h2==3.*; extra == \"http2\"\n",
            "\u001b[?25l  Downloading https://files.pythonhosted.org/packages/25/de/da019bcc539eeab02f6d45836f23858ac467f584bfec7a526ef200242afe/h2-3.2.0-py2.py3-none-any.whl (65kB)\n",
            "\u001b[K     |████████████████████████████████| 71kB 10.6MB/s \n",
            "\u001b[?25hRequirement already satisfied: pytz>=2017.2 in /usr/local/lib/python3.6/dist-packages (from pandas==1.1.2->spleeter) (2018.9)\n",
            "Requirement already satisfied: python-dateutil>=2.7.3 in /usr/local/lib/python3.6/dist-packages (from pandas==1.1.2->spleeter) (2.8.1)\n",
            "Requirement already satisfied: setuptools in /usr/local/lib/python3.6/dist-packages (from numba>=0.43.0->librosa==0.8.0->spleeter) (51.1.1)\n",
            "Requirement already satisfied: llvmlite<0.32.0,>=0.31.0dev0 in /usr/local/lib/python3.6/dist-packages (from numba>=0.43.0->librosa==0.8.0->spleeter) (0.31.0)\n",
            "Requirement already satisfied: cffi>=1.0 in /usr/local/lib/python3.6/dist-packages (from soundfile>=0.9.0->librosa==0.8.0->spleeter) (1.14.4)\n",
            "Requirement already satisfied: requests in /usr/local/lib/python3.6/dist-packages (from pooch>=1.0->librosa==0.8.0->spleeter) (2.23.0)\n",
            "Collecting appdirs\n",
            "  Downloading https://files.pythonhosted.org/packages/3b/00/2344469e2084fb287c2e0b57b72910309874c3245463acd6cf5e3db69324/appdirs-1.4.4-py2.py3-none-any.whl\n",
            "Requirement already satisfied: packaging in /usr/local/lib/python3.6/dist-packages (from pooch>=1.0->librosa==0.8.0->spleeter) (20.8)\n",
            "Requirement already satisfied: werkzeug>=0.11.15 in /usr/local/lib/python3.6/dist-packages (from tensorboard<3,>=2.3.0->tensorflow==2.3.0->spleeter) (1.0.1)\n",
            "Requirement already satisfied: google-auth<2,>=1.6.3 in /usr/local/lib/python3.6/dist-packages (from tensorboard<3,>=2.3.0->tensorflow==2.3.0->spleeter) (1.17.2)\n",
            "Requirement already satisfied: markdown>=2.6.8 in /usr/local/lib/python3.6/dist-packages (from tensorboard<3,>=2.3.0->tensorflow==2.3.0->spleeter) (3.3.3)\n",
            "Requirement already satisfied: google-auth-oauthlib<0.5,>=0.4.1 in /usr/local/lib/python3.6/dist-packages (from tensorboard<3,>=2.3.0->tensorflow==2.3.0->spleeter) (0.4.2)\n",
            "Requirement already satisfied: tensorboard-plugin-wit>=1.6.0 in /usr/local/lib/python3.6/dist-packages (from tensorboard<3,>=2.3.0->tensorflow==2.3.0->spleeter) (1.7.0)\n",
            "Collecting contextvars>=2.1; python_version < \"3.7\"\n",
            "  Downloading https://files.pythonhosted.org/packages/83/96/55b82d9f13763be9d672622e1b8106c85acb83edd7cc2fa5bc67cd9877e9/contextvars-2.4.tar.gz\n",
            "Requirement already satisfied: idna; extra == \"idna2008\" in /usr/local/lib/python3.6/dist-packages (from rfc3986[idna2008]<2,>=1.3->httpx[http2]<0.17.0,>=0.16.1->spleeter) (2.10)\n",
            "Collecting h11==0.*\n",
            "\u001b[?25l  Downloading https://files.pythonhosted.org/packages/60/0f/7a0eeea938eaf61074f29fed9717f2010e8d0e0905d36b38d3275a1e4622/h11-0.12.0-py3-none-any.whl (54kB)\n",
            "\u001b[K     |████████████████████████████████| 61kB 7.6MB/s \n",
            "\u001b[?25hCollecting hpack<4,>=3.0\n",
            "  Downloading https://files.pythonhosted.org/packages/8a/cc/e53517f4a1e13f74776ca93271caef378dadec14d71c61c949d759d3db69/hpack-3.0.0-py2.py3-none-any.whl\n",
            "Collecting hyperframe<6,>=5.2.0\n",
            "  Downloading https://files.pythonhosted.org/packages/19/0c/bf88182bcb5dce3094e2f3e4fe20db28a9928cb7bd5b08024030e4b140db/hyperframe-5.2.0-py2.py3-none-any.whl\n",
            "Requirement already satisfied: pycparser in /usr/local/lib/python3.6/dist-packages (from cffi>=1.0->soundfile>=0.9.0->librosa==0.8.0->spleeter) (2.20)\n",
            "Requirement already satisfied: chardet<4,>=3.0.2 in /usr/local/lib/python3.6/dist-packages (from requests->pooch>=1.0->librosa==0.8.0->spleeter) (3.0.4)\n",
            "Requirement already satisfied: urllib3!=1.25.0,!=1.25.1,<1.26,>=1.21.1 in /usr/local/lib/python3.6/dist-packages (from requests->pooch>=1.0->librosa==0.8.0->spleeter) (1.24.3)\n",
            "Requirement already satisfied: pyparsing>=2.0.2 in /usr/local/lib/python3.6/dist-packages (from packaging->pooch>=1.0->librosa==0.8.0->spleeter) (2.4.7)\n",
            "Requirement already satisfied: pyasn1-modules>=0.2.1 in /usr/local/lib/python3.6/dist-packages (from google-auth<2,>=1.6.3->tensorboard<3,>=2.3.0->tensorflow==2.3.0->spleeter) (0.2.8)\n",
            "Requirement already satisfied: cachetools<5.0,>=2.0.0 in /usr/local/lib/python3.6/dist-packages (from google-auth<2,>=1.6.3->tensorboard<3,>=2.3.0->tensorflow==2.3.0->spleeter) (4.2.0)\n",
            "Requirement already satisfied: rsa<5,>=3.1.4; python_version >= \"3\" in /usr/local/lib/python3.6/dist-packages (from google-auth<2,>=1.6.3->tensorboard<3,>=2.3.0->tensorflow==2.3.0->spleeter) (4.6)\n",
            "Requirement already satisfied: importlib-metadata; python_version < \"3.8\" in /usr/local/lib/python3.6/dist-packages (from markdown>=2.6.8->tensorboard<3,>=2.3.0->tensorflow==2.3.0->spleeter) (3.3.0)\n",
            "Requirement already satisfied: requests-oauthlib>=0.7.0 in /usr/local/lib/python3.6/dist-packages (from google-auth-oauthlib<0.5,>=0.4.1->tensorboard<3,>=2.3.0->tensorflow==2.3.0->spleeter) (1.3.0)\n",
            "Collecting immutables>=0.9\n",
            "\u001b[?25l  Downloading https://files.pythonhosted.org/packages/99/e0/ea6fd4697120327d26773b5a84853f897a68e33d3f9376b00a8ff96e4f63/immutables-0.14-cp36-cp36m-manylinux1_x86_64.whl (98kB)\n",
            "\u001b[K     |████████████████████████████████| 102kB 10.7MB/s \n",
            "\u001b[?25hRequirement already satisfied: pyasn1<0.5.0,>=0.4.6 in /usr/local/lib/python3.6/dist-packages (from pyasn1-modules>=0.2.1->google-auth<2,>=1.6.3->tensorboard<3,>=2.3.0->tensorflow==2.3.0->spleeter) (0.4.8)\n",
            "Requirement already satisfied: typing-extensions>=3.6.4; python_version < \"3.8\" in /usr/local/lib/python3.6/dist-packages (from importlib-metadata; python_version < \"3.8\"->markdown>=2.6.8->tensorboard<3,>=2.3.0->tensorflow==2.3.0->spleeter) (3.7.4.3)\n",
            "Requirement already satisfied: oauthlib>=3.0.0 in /usr/local/lib/python3.6/dist-packages (from requests-oauthlib>=0.7.0->google-auth-oauthlib<0.5,>=0.4.1->tensorboard<3,>=2.3.0->tensorflow==2.3.0->spleeter) (3.1.0)\n",
            "Building wheels for collected packages: librosa, contextvars\n",
            "  Building wheel for librosa (setup.py) ... \u001b[?25l\u001b[?25hdone\n",
            "  Created wheel for librosa: filename=librosa-0.8.0-cp36-none-any.whl size=201375 sha256=cfc98753a9d873054e7e34bdb4dbc9f648af9e0684e2cc50daa7340104bb3d13\n",
            "  Stored in directory: /root/.cache/pip/wheels/ee/10/1e/382bb4369e189938d5c02e06d10c651817da8d485bfd1647c9\n",
            "  Building wheel for contextvars (setup.py) ... \u001b[?25l\u001b[?25hdone\n",
            "  Created wheel for contextvars: filename=contextvars-2.4-cp36-none-any.whl size=7667 sha256=c8b5f2ea92d951fb30abfd3f75af890174d9ef42c6bce6f8f69f1bce4c0b167a\n",
            "  Stored in directory: /root/.cache/pip/wheels/a5/7d/68/1ebae2668bda2228686e3c1cf16f2c2384cea6e9334ad5f6de\n",
            "Successfully built librosa contextvars\n",
            "\u001b[31mERROR: datascience 0.10.6 has requirement folium==0.2.1, but you'll have folium 0.8.3 which is incompatible.\u001b[0m\n",
            "\u001b[31mERROR: albumentations 0.1.12 has requirement imgaug<0.2.7,>=0.2.5, but you'll have imgaug 0.2.9 which is incompatible.\u001b[0m\n",
            "Installing collected packages: numpy, soundfile, appdirs, pooch, librosa, ffmpeg-python, norbert, typer, tensorflow-estimator, tensorflow, immutables, contextvars, sniffio, rfc3986, h11, httpcore, hpack, hyperframe, h2, httpx, pandas, spleeter\n",
            "  Found existing installation: numpy 1.19.5\n",
            "    Uninstalling numpy-1.19.5:\n",
            "      Successfully uninstalled numpy-1.19.5\n",
            "  Found existing installation: librosa 0.6.3\n",
            "    Uninstalling librosa-0.6.3:\n",
            "      Successfully uninstalled librosa-0.6.3\n",
            "  Found existing installation: tensorflow-estimator 2.4.0\n",
            "    Uninstalling tensorflow-estimator-2.4.0:\n",
            "      Successfully uninstalled tensorflow-estimator-2.4.0\n",
            "  Found existing installation: tensorflow 2.4.0\n",
            "    Uninstalling tensorflow-2.4.0:\n",
            "      Successfully uninstalled tensorflow-2.4.0\n",
            "  Found existing installation: pandas 1.1.5\n",
            "    Uninstalling pandas-1.1.5:\n",
            "      Successfully uninstalled pandas-1.1.5\n",
            "Successfully installed appdirs-1.4.4 contextvars-2.4 ffmpeg-python-0.2.0 h11-0.12.0 h2-3.2.0 hpack-3.0.0 httpcore-0.12.2 httpx-0.16.1 hyperframe-5.2.0 immutables-0.14 librosa-0.8.0 norbert-0.2.1 numpy-1.18.5 pandas-1.1.2 pooch-1.3.0 rfc3986-1.4.0 sniffio-1.2.0 soundfile-0.10.3.post1 spleeter-2.1.2 tensorflow-2.3.0 tensorflow-estimator-2.3.0 typer-0.3.2\n"
          ],
          "name": "stdout"
        },
        {
          "output_type": "display_data",
          "data": {
            "application/vnd.colab-display-data+json": {
              "pip_warning": {
                "packages": [
                  "numpy",
                  "pandas"
                ]
              }
            }
          },
          "metadata": {
            "tags": []
          }
        }
      ]
    },
    {
      "cell_type": "code",
      "metadata": {
        "colab": {
          "base_uri": "https://localhost:8080/"
        },
        "id": "I5FfKRR-aMkz",
        "outputId": "688093a3-ed45-40e6-830e-7253bc7d05d3"
      },
      "source": [
        "pip install pydub"
      ],
      "execution_count": 1,
      "outputs": [
        {
          "output_type": "stream",
          "text": [
            "Requirement already satisfied: pydub in /usr/local/lib/python3.6/dist-packages (0.24.1)\n"
          ],
          "name": "stdout"
        }
      ]
    },
    {
      "cell_type": "code",
      "metadata": {
        "id": "W0LktyMypXqE"
      },
      "source": [
        "#import libraries\r\n",
        "from IPython.display import Audio\r\n",
        "import librosa\r\n",
        "import librosa.display\r\n",
        "import pydub\r\n",
        "from pydub import AudioSegment\r\n",
        "import soundfile as sf"
      ],
      "execution_count": 2,
      "outputs": []
    },
    {
      "cell_type": "code",
      "metadata": {
        "colab": {
          "base_uri": "https://localhost:8080/"
        },
        "id": "kOAqBcPhn6IU",
        "outputId": "ddc21bd3-1806-4795-e9ab-526d50e65268"
      },
      "source": [
        "#Know how spleeter can be used\r\n",
        "!spleeter separate --help"
      ],
      "execution_count": 3,
      "outputs": [
        {
          "output_type": "stream",
          "text": [
            "Usage: spleeter separate [OPTIONS] FILES...\n",
            "\n",
            "  Separate audio file(s)\n",
            "\n",
            "Arguments:\n",
            "  FILES...  List of input audio file path\n",
            "            [required]\n",
            "\n",
            "\n",
            "Options:\n",
            "  -i, --inputs TEXT               (DEPRECATED)\n",
            "                                  placeholder for\n",
            "                                  deprecated input\n",
            "                                  option\n",
            "\n",
            "  -a, --adapter TEXT              Name of the\n",
            "                                  audio adapter to\n",
            "                                  use for audio\n",
            "                                  I/O  [default: s\n",
            "                                  pleeter.audio.ff\n",
            "                                  mpeg.FFMPEGProce\n",
            "                                  ssAudioAdapter]\n",
            "\n",
            "  -b, --bitrate TEXT              Audio bitrate to\n",
            "                                  be used for the\n",
            "                                  separated output\n",
            "                                  [default: 128k]\n",
            "\n",
            "  -c, --codec [wav|mp3|ogg|m4a|wma|flac]\n",
            "                                  Audio codec to\n",
            "                                  be used for the\n",
            "                                  separated output\n",
            "                                  [default: wav]\n",
            "\n",
            "  -d, --duration FLOAT            Set a maximum\n",
            "                                  duration for\n",
            "                                  processing audio\n",
            "                                  (only separate\n",
            "                                  offset +\n",
            "                                  duration first\n",
            "                                  seconds of the\n",
            "                                  input file)\n",
            "                                  [default: 600.0]\n",
            "\n",
            "  -s, --offset FLOAT              Set the starting\n",
            "                                  offset to\n",
            "                                  separate audio\n",
            "                                  from  [default:\n",
            "                                  0.0]\n",
            "\n",
            "  -o, --output_path PATH          Path of the\n",
            "                                  output directory\n",
            "                                  to write audio\n",
            "                                  files in\n",
            "                                  [default: /tmp/s\n",
            "                                  eparated_audio]\n",
            "\n",
            "  -B, --stft-backend [auto|tensorflow|librosa]\n",
            "                                  Who should be in\n",
            "                                  charge of\n",
            "                                  computing the\n",
            "                                  stfts. Librosa\n",
            "                                  is faster than\n",
            "                                  tensorflow on\n",
            "                                  CPU and uses\n",
            "                                  less memory.\n",
            "                                  \"auto\" will use\n",
            "                                  tensorflow when\n",
            "                                  GPU acceleration\n",
            "                                  is available and\n",
            "                                  librosa when not\n",
            "                                  [default: auto]\n",
            "\n",
            "  -f, --filename_format TEXT      Template string\n",
            "                                  that will be\n",
            "                                  formatted to\n",
            "                                  generatedoutput\n",
            "                                  filename. Such\n",
            "                                  template should\n",
            "                                  be Python format\n",
            "                                  tablestring, and\n",
            "                                  could use\n",
            "                                  {filename},\n",
            "                                  {instrument},\n",
            "                                  and\n",
            "                                  {codec}variables\n",
            "                                  [default: {filen\n",
            "                                  ame}/{instrument\n",
            "                                  }.{codec}]\n",
            "\n",
            "  -p, --params_filename TEXT      JSON filename\n",
            "                                  that contains\n",
            "                                  params\n",
            "                                  [default:\n",
            "                                  spleeter:2stems]\n",
            "\n",
            "  --mwf                           Whether to use\n",
            "                                  multichannel\n",
            "                                  Wiener filtering\n",
            "                                  for separation\n",
            "                                  [default: False]\n",
            "\n",
            "  --verbose                       Enable verbose\n",
            "                                  logs  [default:\n",
            "                                  False]\n",
            "\n",
            "  --help                          Show this\n",
            "                                  message and\n",
            "                                  exit.\n"
          ],
          "name": "stdout"
        }
      ]
    },
    {
      "cell_type": "markdown",
      "metadata": {
        "id": "3bGIHv8BYwYL"
      },
      "source": [
        "Separate voice from songs"
      ]
    },
    {
      "cell_type": "code",
      "metadata": {
        "colab": {
          "base_uri": "https://localhost:8080/"
        },
        "id": "dGL-k5xxoKbu",
        "outputId": "ffa89cba-5fbe-4b51-81f2-aa0e382abab1"
      },
      "source": [
        "!spleeter separate song1.mp3 -d 60 -o output/"
      ],
      "execution_count": 4,
      "outputs": [
        {
          "output_type": "stream",
          "text": [
            "INFO:spleeter:Downloading model archive https://github.com/deezer/spleeter/releases/download/v1.4.0/2stems.tar.gz\n",
            "INFO:spleeter:Validating archive checksum\n",
            "INFO:spleeter:Extracting downloaded 2stems archive\n",
            "INFO:spleeter:2stems model file(s) extracted\n",
            "INFO:spleeter:File output/song1/accompaniment.wav written succesfully\n",
            "INFO:spleeter:File output/song1/vocals.wav written succesfully\n"
          ],
          "name": "stdout"
        }
      ]
    },
    {
      "cell_type": "code",
      "metadata": {
        "colab": {
          "base_uri": "https://localhost:8080/"
        },
        "id": "SyKBXc9pCHCX",
        "outputId": "fcbf22fd-b6a3-434a-aebc-da0f9b5592ee"
      },
      "source": [
        "!spleeter separate song2.mp3 -d 60 -o output/"
      ],
      "execution_count": 5,
      "outputs": [
        {
          "output_type": "stream",
          "text": [
            "INFO:spleeter:File output/song2/vocals.wav written succesfully\n",
            "INFO:spleeter:File output/song2/accompaniment.wav written succesfully\n"
          ],
          "name": "stdout"
        }
      ]
    },
    {
      "cell_type": "code",
      "metadata": {
        "colab": {
          "base_uri": "https://localhost:8080/"
        },
        "id": "JzFO-GepCGDI",
        "outputId": "1f52dff7-8580-4c70-9fea-effbf3eb7c9d"
      },
      "source": [
        "!spleeter separate song3.mp3 -d 60 -o output/"
      ],
      "execution_count": 6,
      "outputs": [
        {
          "output_type": "stream",
          "text": [
            "INFO:spleeter:File output/song3/vocals.wav written succesfully\n",
            "INFO:spleeter:File output/song3/accompaniment.wav written succesfully\n"
          ],
          "name": "stdout"
        }
      ]
    },
    {
      "cell_type": "code",
      "metadata": {
        "id": "_KOVPStdBn3e"
      },
      "source": [
        "#path of voice files\r\n",
        "songs_path = [\"/content/output/song1/vocals.wav\",\"/content/output/song2/vocals.wav\",\"/content/output/song3/vocals.wav\"]"
      ],
      "execution_count": 7,
      "outputs": []
    },
    {
      "cell_type": "code",
      "metadata": {
        "id": "d4JcGsZPAdGa"
      },
      "source": [
        "#declare lists for processing\n",
        "y_all = []\n",
        "sr_all = []\n",
        "tr_all = []"
      ],
      "execution_count": 8,
      "outputs": []
    },
    {
      "cell_type": "code",
      "metadata": {
        "id": "Ti0HMoLvAg9E"
      },
      "source": [
        "#Extract the y and sr\n",
        "for song in songs_path:\n",
        "  y, sr = librosa.load(song, duration=60)\n",
        "  y_all.append(y)\n",
        "  sr_all.append(sr)"
      ],
      "execution_count": 9,
      "outputs": []
    },
    {
      "cell_type": "code",
      "metadata": {
        "id": "eKC9DqQvByGv"
      },
      "source": [
        "#Get the voice part that is over 40 decibles, idea is to remove silence from the files\n",
        "for x in y_all:\n",
        "  tr_all.append(librosa.effects.split(y=x, frame_length=8000, top_db=40))"
      ],
      "execution_count": 10,
      "outputs": []
    },
    {
      "cell_type": "markdown",
      "metadata": {
        "id": "lXYam55bZyfG"
      },
      "source": [
        "Get start and end times of the non silenced parts to comapre and pick best snippet"
      ]
    },
    {
      "cell_type": "code",
      "metadata": {
        "id": "Xcj43Z3dO-Fg"
      },
      "source": [
        "duration = []\n",
        "start_time = []\n",
        "end_time = []\n",
        "dur = []\n",
        "c = 0\n",
        "for tr in tr_all: \n",
        "  start_time.append([])\n",
        "  end_time.append([])\n",
        "  duration.append([])\n",
        "\n",
        "  for i in tr:\n",
        "    st = ((i[1]/sr_all[c]) - (i[0]/sr_all[c]))\n",
        "    start_time[c].append(str(i[0]/sr_all[c]))\n",
        "    end_time[c].append(str(i[1]/sr_all[c]))\n",
        "    duration[c].append(st)\n",
        "  c= c+1\n"
      ],
      "execution_count": 11,
      "outputs": []
    },
    {
      "cell_type": "code",
      "metadata": {
        "id": "NXqk9pVsRkum"
      },
      "source": [
        "song_offset = []\n",
        "song_snip_duration_index = []\n",
        "song_snip_duration = []"
      ],
      "execution_count": 12,
      "outputs": []
    },
    {
      "cell_type": "code",
      "metadata": {
        "colab": {
          "base_uri": "https://localhost:8080/"
        },
        "id": "vHRJyJl5SoKa",
        "outputId": "af64c1ad-4015-44ff-8fa0-6b9b0bf00d77"
      },
      "source": [
        "for d in duration:\n",
        "   print(d)\n",
        "   song_snip_duration_index.append(d.index(max(d)))\n",
        "   song_snip_duration.append(max(d))"
      ],
      "execution_count": 13,
      "outputs": [
        {
          "output_type": "stream",
          "text": [
            "[3.5526530612244898, 5.4334693877551015, 3.3901133786848057, 4.876190476190475, 3.5526530612244898, 0.3482993197278894, 9.380861678004536, 0.7430385487528355, 6.222947845804988, 3.8312925170068084, 0.37151927437641774, 5.178049886621309, 3.343310657596369]\n",
            "[2.7863945578231295, 0.3482993197278912, 0.37151927437641774, 3.78485260770975, 0.3947392290249425, 6.98920634920635, 0.3715192743764142, 2.623854875283449, 0.37151927437641774, 0.3947392290249425, 3.0650340136054446, 0.3250793650793682, 3.5526530612244898, 3.320453514739228, 0.3018594104308434, 0.023219954648524777, 3.9009523809523827, 0.3947392290249425, 6.083265306122449]\n",
            "[5.596009070294785, 6.246167800453516, 9.589841269841271, 7.314285714285717, 6.548027210884349, 10.17034013605442, 0.9284353741496574]\n"
          ],
          "name": "stdout"
        }
      ]
    },
    {
      "cell_type": "code",
      "metadata": {
        "id": "7kezrdrSF-iP"
      },
      "source": [
        "for i,s in enumerate(start_time):\n",
        "  song_offset.append(s[song_snip_duration_index[i]])"
      ],
      "execution_count": 14,
      "outputs": []
    },
    {
      "cell_type": "code",
      "metadata": {
        "colab": {
          "base_uri": "https://localhost:8080/"
        },
        "id": "VVeDVTJ1F-Tr",
        "outputId": "edc221e4-0d79-4806-f0b8-aa2288bc524f"
      },
      "source": [
        "song_offset"
      ],
      "execution_count": 15,
      "outputs": [
        {
          "output_type": "execute_result",
          "data": {
            "text/plain": [
              "['26.79582766439909', '15.650249433106575', '45.69687074829932']"
            ]
          },
          "metadata": {
            "tags": []
          },
          "execution_count": 15
        }
      ]
    },
    {
      "cell_type": "code",
      "metadata": {
        "id": "Decbw16xgi8S"
      },
      "source": [
        "for n,new_song in enumerate(songs_path):\n",
        "  new_y, new_sr = librosa.load( new_song, offset=float(song_offset[n]),duration=song_snip_duration[n])\n",
        "  sf.write(\"new_song\" + str(n) + \".wav\", new_y, new_sr)\n"
      ],
      "execution_count": 16,
      "outputs": []
    },
    {
      "cell_type": "code",
      "metadata": {
        "id": "hrIAb6C7Xngz"
      },
      "source": [
        "#join audio files"
      ],
      "execution_count": null,
      "outputs": []
    },
    {
      "cell_type": "code",
      "metadata": {
        "id": "3JPPxjPDHHjI"
      },
      "source": [
        "sound1 = AudioSegment.from_wav(\"/content/new_song0.wav\")\n",
        "sound2 = AudioSegment.from_wav(\"/content/new_song1.wav\")\n",
        "sound3 = AudioSegment.from_wav(\"/content/new_song2.wav\")\n",
        "\n",
        "combined_sounds = sound1 + sound2 + sound3\n",
        "combined_sounds.export(\"all_voices.wav\", format=\"wav\")"
      ],
      "execution_count": null,
      "outputs": []
    },
    {
      "cell_type": "code",
      "metadata": {
        "id": "-sDzAmD_HmZY"
      },
      "source": [
        "Audio('all_voices.wav')"
      ],
      "execution_count": null,
      "outputs": []
    },
    {
      "cell_type": "code",
      "metadata": {
        "id": "L6ajyp4yauLB"
      },
      "source": [
        ""
      ],
      "execution_count": null,
      "outputs": []
    }
  ]
}